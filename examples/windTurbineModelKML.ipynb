{
 "cells": [
  {
   "cell_type": "markdown",
   "metadata": {
    "colab_type": "text",
    "id": "view-in-github"
   },
   "source": [
    "<a href=\"https://colab.research.google.com/github/charlie9578/wind-turbine-kml/blob/master/windTurbineModelKML.ipynb\" target=\"_parent\"><img src=\"https://colab.research.google.com/assets/colab-badge.svg\" alt=\"Open In Colab\"/></a>"
   ]
  },
  {
   "cell_type": "code",
   "execution_count": 1,
   "metadata": {
    "colab": {
     "base_uri": "https://localhost:8080/",
     "height": 105
    },
    "colab_type": "code",
    "id": "vZO1K9I73rgl",
    "outputId": "fe33d7f8-d37b-430e-8ab4-d09735f4fa01"
   },
   "outputs": [
    {
     "name": "stdout",
     "output_type": "stream",
     "text": [
      "Requirement already satisfied: pip in /home/rainerth/anaconda3/lib/python3.8/site-packages (23.3.2)\n",
      "Requirement already satisfied: simplekml in /home/rainerth/anaconda3/lib/python3.8/site-packages (1.3.5)\n",
      "Requirement already satisfied: pycollada in /home/rainerth/anaconda3/lib/python3.8/site-packages (0.7.2)\n",
      "Requirement already satisfied: python-dateutil>=2.2 in /home/rainerth/anaconda3/lib/python3.8/site-packages (from pycollada) (2.8.2)\n",
      "Requirement already satisfied: six>=1.5 in /home/rainerth/anaconda3/lib/python3.8/site-packages (from python-dateutil>=2.2->pycollada) (1.16.0)\n",
      "Requirement already satisfied: ipykernel in /home/rainerth/anaconda3/lib/python3.8/site-packages (6.25.0)\n",
      "Collecting ipykernel\n",
      "  Using cached ipykernel-6.29.0-py3-none-any.whl.metadata (6.0 kB)\n",
      "Requirement already satisfied: comm>=0.1.1 in /home/rainerth/anaconda3/lib/python3.8/site-packages (from ipykernel) (0.1.2)\n",
      "Requirement already satisfied: debugpy>=1.6.5 in /home/rainerth/anaconda3/lib/python3.8/site-packages (from ipykernel) (1.6.7)\n",
      "Requirement already satisfied: ipython>=7.23.1 in /home/rainerth/anaconda3/lib/python3.8/site-packages (from ipykernel) (8.12.2)\n",
      "Requirement already satisfied: jupyter-client>=6.1.12 in /home/rainerth/anaconda3/lib/python3.8/site-packages (from ipykernel) (8.6.0)\n",
      "Requirement already satisfied: jupyter-core!=5.0.*,>=4.12 in /home/rainerth/anaconda3/lib/python3.8/site-packages (from ipykernel) (5.5.0)\n",
      "Requirement already satisfied: matplotlib-inline>=0.1 in /home/rainerth/anaconda3/lib/python3.8/site-packages (from ipykernel) (0.1.6)\n",
      "Requirement already satisfied: nest-asyncio in /home/rainerth/anaconda3/lib/python3.8/site-packages (from ipykernel) (1.5.1)\n",
      "Requirement already satisfied: packaging in /home/rainerth/anaconda3/lib/python3.8/site-packages (from ipykernel) (23.1)\n",
      "Requirement already satisfied: psutil in /home/rainerth/anaconda3/lib/python3.8/site-packages (from ipykernel) (5.8.0)\n",
      "Collecting pyzmq>=24 (from ipykernel)\n",
      "  Using cached pyzmq-25.1.2-cp38-cp38-manylinux_2_12_x86_64.manylinux2010_x86_64.whl.metadata (4.9 kB)\n",
      "Requirement already satisfied: tornado>=6.1 in /home/rainerth/anaconda3/lib/python3.8/site-packages (from ipykernel) (6.3.3)\n",
      "Requirement already satisfied: traitlets>=5.4.0 in /home/rainerth/anaconda3/lib/python3.8/site-packages (from ipykernel) (5.7.1)\n",
      "Requirement already satisfied: backcall in /home/rainerth/anaconda3/lib/python3.8/site-packages (from ipython>=7.23.1->ipykernel) (0.2.0)\n",
      "Requirement already satisfied: decorator in /home/rainerth/anaconda3/lib/python3.8/site-packages (from ipython>=7.23.1->ipykernel) (4.4.2)\n",
      "Requirement already satisfied: jedi>=0.16 in /home/rainerth/anaconda3/lib/python3.8/site-packages (from ipython>=7.23.1->ipykernel) (0.17.2)\n",
      "Requirement already satisfied: pickleshare in /home/rainerth/anaconda3/lib/python3.8/site-packages (from ipython>=7.23.1->ipykernel) (0.7.5)\n",
      "Requirement already satisfied: prompt-toolkit!=3.0.37,<3.1.0,>=3.0.30 in /home/rainerth/anaconda3/lib/python3.8/site-packages (from ipython>=7.23.1->ipykernel) (3.0.43)\n",
      "Requirement already satisfied: pygments>=2.4.0 in /home/rainerth/anaconda3/lib/python3.8/site-packages (from ipython>=7.23.1->ipykernel) (2.8.1)\n",
      "Requirement already satisfied: stack-data in /home/rainerth/anaconda3/lib/python3.8/site-packages (from ipython>=7.23.1->ipykernel) (0.2.0)\n",
      "Requirement already satisfied: typing-extensions in /home/rainerth/anaconda3/lib/python3.8/site-packages (from ipython>=7.23.1->ipykernel) (4.9.0)\n",
      "Requirement already satisfied: pexpect>4.3 in /home/rainerth/anaconda3/lib/python3.8/site-packages (from ipython>=7.23.1->ipykernel) (4.8.0)\n",
      "Requirement already satisfied: importlib-metadata>=4.8.3 in /home/rainerth/anaconda3/lib/python3.8/site-packages (from jupyter-client>=6.1.12->ipykernel) (7.0.1)\n",
      "Requirement already satisfied: python-dateutil>=2.8.2 in /home/rainerth/anaconda3/lib/python3.8/site-packages (from jupyter-client>=6.1.12->ipykernel) (2.8.2)\n",
      "Requirement already satisfied: platformdirs>=2.5 in /home/rainerth/anaconda3/lib/python3.8/site-packages (from jupyter-core!=5.0.*,>=4.12->ipykernel) (3.10.0)\n",
      "Requirement already satisfied: zipp>=0.5 in /home/rainerth/anaconda3/lib/python3.8/site-packages (from importlib-metadata>=4.8.3->jupyter-client>=6.1.12->ipykernel) (3.4.1)\n",
      "Requirement already satisfied: parso<0.8.0,>=0.7.0 in /home/rainerth/anaconda3/lib/python3.8/site-packages (from jedi>=0.16->ipython>=7.23.1->ipykernel) (0.7.0)\n",
      "Requirement already satisfied: ptyprocess>=0.5 in /home/rainerth/anaconda3/lib/python3.8/site-packages (from pexpect>4.3->ipython>=7.23.1->ipykernel) (0.7.0)\n",
      "Requirement already satisfied: wcwidth in /home/rainerth/anaconda3/lib/python3.8/site-packages (from prompt-toolkit!=3.0.37,<3.1.0,>=3.0.30->ipython>=7.23.1->ipykernel) (0.2.5)\n",
      "Requirement already satisfied: six>=1.5 in /home/rainerth/anaconda3/lib/python3.8/site-packages (from python-dateutil>=2.8.2->jupyter-client>=6.1.12->ipykernel) (1.16.0)\n",
      "Requirement already satisfied: executing in /home/rainerth/anaconda3/lib/python3.8/site-packages (from stack-data->ipython>=7.23.1->ipykernel) (0.8.3)\n",
      "Requirement already satisfied: asttokens in /home/rainerth/anaconda3/lib/python3.8/site-packages (from stack-data->ipython>=7.23.1->ipykernel) (2.0.5)\n",
      "Requirement already satisfied: pure-eval in /home/rainerth/anaconda3/lib/python3.8/site-packages (from stack-data->ipython>=7.23.1->ipykernel) (0.2.2)\n",
      "Using cached ipykernel-6.29.0-py3-none-any.whl (116 kB)\n",
      "Using cached pyzmq-25.1.2-cp38-cp38-manylinux_2_12_x86_64.manylinux2010_x86_64.whl (1.1 MB)\n",
      "Installing collected packages: pyzmq, ipykernel\n",
      "  Attempting uninstall: pyzmq\n",
      "    Found existing installation: pyzmq 23.2.0\n",
      "    Uninstalling pyzmq-23.2.0:\n",
      "      Successfully uninstalled pyzmq-23.2.0\n",
      "  Attempting uninstall: ipykernel\n",
      "    Found existing installation: ipykernel 6.25.0\n",
      "    Uninstalling ipykernel-6.25.0:\n",
      "      Successfully uninstalled ipykernel-6.25.0\n",
      "Successfully installed ipykernel-6.29.0 pyzmq-25.1.2\n"
     ]
    }
   ],
   "source": [
    "!pip install --upgrade pip\n",
    "!pip install simplekml\n",
    "!pip install pycollada\n",
    "!pip install -U ipykernel"
   ]
  },
  {
   "cell_type": "code",
   "execution_count": 2,
   "metadata": {
    "colab": {},
    "colab_type": "code",
    "id": "7W5sQ58C3zgw"
   },
   "outputs": [],
   "source": [
    "import simplekml\n",
    "kml = simplekml.Kml()\n",
    "kml.newpoint(name=\"Kirstenbosch\", coords=[(18.432314,-33.988862)])\n",
    "kml.save(\"botanicalgarden.kml\")"
   ]
  },
  {
   "cell_type": "code",
   "execution_count": 3,
   "metadata": {
    "colab": {},
    "colab_type": "code",
    "id": "K3pOXJmw36YJ"
   },
   "outputs": [],
   "source": [
    "import collada"
   ]
  },
  {
   "cell_type": "code",
   "execution_count": 4,
   "metadata": {
    "colab": {},
    "colab_type": "code",
    "id": "u6tGqEi236eQ"
   },
   "outputs": [],
   "source": [
    "mesh = collada.Collada()\n",
    "effect = collada.material.Effect(\"effect0\", [], \"phong\", diffuse=(1,0,0), specular=(0,1,0))\n",
    "mat = collada.material.Material(\"material0\", \"mymaterial\", effect)\n",
    "mesh.effects.append(effect)\n",
    "mesh.materials.append(mat)"
   ]
  },
  {
   "cell_type": "code",
   "execution_count": 5,
   "metadata": {
    "colab": {},
    "colab_type": "code",
    "id": "uqhQxll-36jD"
   },
   "outputs": [],
   "source": [
    "import numpy\n",
    "vert_floats = [-50,50,50,50,50,50,-50,-50,50,50,\n",
    "     -50,50,-50,50,-50,50,50,-50,-50,-50,-50,50,-50,-50]\n",
    "normal_floats = [0,0,1,0,0,1,0,0,1,0,0,1,0,1,0,\n",
    "     0,1,0,0,1,0,0,1,0,0,-1,0,0,-1,0,0,-1,0,0,-1,0,-1,0,0,\n",
    "     -1,0,0,-1,0,0,-1,0,0,1,0,0,1,0,0,1,0,0,1,0,0,0,0,-1,\n",
    "     0,0,-1,0,0,-1,0,0,-1]\n",
    "vert_src = collada.source.FloatSource(\"cubeverts-array\", numpy.array(vert_floats), ('X', 'Y', 'Z'))\n",
    "normal_src = collada.source.FloatSource(\"cubenormals-array\", numpy.array(normal_floats), ('X', 'Y', 'Z'))"
   ]
  },
  {
   "cell_type": "code",
   "execution_count": 6,
   "metadata": {
    "colab": {},
    "colab_type": "code",
    "id": "ycJLf7vm36n1"
   },
   "outputs": [],
   "source": [
    "geom = collada.geometry.Geometry(mesh, \"geometry0\", \"mycube\", [vert_src, normal_src])"
   ]
  },
  {
   "cell_type": "code",
   "execution_count": null,
   "metadata": {
    "colab": {},
    "colab_type": "code",
    "id": "oAM07eb9980F"
   },
   "outputs": [],
   "source": []
  },
  {
   "cell_type": "markdown",
   "metadata": {
    "colab_type": "text",
    "id": "CM8oo981-CIa"
   },
   "source": [
    "To add a triangle set to the geometry, we can call the Geometry.createTriangleSet() method. To do this, we need to define the inputs to the triangle set. In this case, we are going to input the arrays we previously defined:"
   ]
  },
  {
   "cell_type": "code",
   "execution_count": 7,
   "metadata": {
    "colab": {},
    "colab_type": "code",
    "id": "hNZ_HOmz983m"
   },
   "outputs": [],
   "source": [
    "input_list = collada.source.InputList()\n",
    "input_list.addInput(0, 'VERTEX', \"#cubeverts-array\")\n",
    "input_list.addInput(1, 'NORMAL', \"#cubenormals-array\")"
   ]
  },
  {
   "cell_type": "markdown",
   "metadata": {
    "colab_type": "text",
    "id": "grT50n0G-MQk"
   },
   "source": [
    "This says to use the source with identifier cubeverts-array as the vertex source and source with identifier cubenormals-array as the normal source. The offsets indicate that the vertex data is the first offset in the index array and the normal data is the second offset in the index array. Let’s now create the index array:"
   ]
  },
  {
   "cell_type": "code",
   "execution_count": 8,
   "metadata": {
    "colab": {},
    "colab_type": "code",
    "id": "h6hIQAoT988D"
   },
   "outputs": [],
   "source": [
    "indices = numpy.array([0,0,2,1,3,2,0,0,3,2,1,3,0,4,1,5,5,6,0,\n",
    "     4,5,6,4,7,6,8,7,9,3,10,6,8,3,10,2,11,0,12,\n",
    "     4,13,6,14,0,12,6,14,2,15,3,16,7,17,5,18,3,\n",
    "     16,5,18,1,19,5,20,7,21,6,22,5,20,6,22,4,23])"
   ]
  },
  {
   "cell_type": "markdown",
   "metadata": {
    "colab_type": "text",
    "id": "q93RtYWf-NME"
   },
   "source": [
    "Now that we have an index array, an input list, and a material, we can create a triangle set and add it to the geometry’s list of primitives. We then add it to the list of geometries in the mesh:"
   ]
  },
  {
   "cell_type": "code",
   "execution_count": 9,
   "metadata": {
    "colab": {},
    "colab_type": "code",
    "id": "878ywqsK98_R"
   },
   "outputs": [],
   "source": [
    "triset = geom.createTriangleSet(indices, input_list, \"materialref\")\n",
    "geom.primitives.append(triset)\n",
    "mesh.geometries.append(geom)"
   ]
  },
  {
   "cell_type": "markdown",
   "metadata": {
    "colab_type": "text",
    "id": "8ad0j8jk-OAj"
   },
   "source": [
    "We now have everything we need in the object except for a scene. To get the geometry to show up, we have to create a scene. First, we instantiate the geometry into a scene node, mapping it to a material:\n"
   ]
  },
  {
   "cell_type": "code",
   "execution_count": 10,
   "metadata": {
    "colab": {},
    "colab_type": "code",
    "id": "N2tEHSRA99Co"
   },
   "outputs": [],
   "source": [
    "matnode = collada.scene.MaterialNode(\"materialref\", mat, inputs=[])\n",
    "geomnode = collada.scene.GeometryNode(geom, [matnode])\n",
    "node = collada.scene.Node(\"node0\", children=[geomnode])"
   ]
  },
  {
   "cell_type": "markdown",
   "metadata": {
    "colab_type": "text",
    "id": "86PA1hQf-OmR"
   },
   "source": [
    "Now that we have the scene node, we can create a scene, add the node to the scene, add the scene to the document, and then set our scene as the default:\n"
   ]
  },
  {
   "cell_type": "code",
   "execution_count": 11,
   "metadata": {
    "colab": {},
    "colab_type": "code",
    "id": "l2iSrQ_o8X1y"
   },
   "outputs": [],
   "source": [
    "myscene = collada.scene.Scene(\"myscene\", [node])\n",
    "mesh.scenes.append(myscene)\n",
    "mesh.scene = myscene"
   ]
  },
  {
   "cell_type": "markdown",
   "metadata": {
    "colab_type": "text",
    "id": "yGqMeLR1-qM6"
   },
   "source": [
    "We can now save the document to a file:"
   ]
  },
  {
   "cell_type": "code",
   "execution_count": 12,
   "metadata": {
    "colab": {},
    "colab_type": "code",
    "id": "QIlnR4h08X5K"
   },
   "outputs": [],
   "source": [
    "mesh.write('test.dae')"
   ]
  },
  {
   "cell_type": "markdown",
   "metadata": {
    "colab_type": "text",
    "id": "25L-hdDS-tzY"
   },
   "source": [
    "If you load this file, it should look like a red cube. Here’s a screenshot:"
   ]
  },
  {
   "cell_type": "code",
   "execution_count": 13,
   "metadata": {
    "colab": {},
    "colab_type": "code",
    "id": "YH-GqmC28X9C"
   },
   "outputs": [],
   "source": [
    "import simplekml\n",
    "kml = simplekml.Kml()\n",
    "#kml.newpoint(name=\"Kirstenbosch\", coords=[(18.432314,-33.988862)])\n",
    "#netlink = kml.newnetworklink(name=\"Network Link\")\n",
    "#netlink.link.href = 'test.dae' #\"http://simplekml.googlecode.com/hg/samples/samples.kml\"\n",
    "model = kml.newmodel(name='cube',)\n",
    "model.link.href = 'https://github.com/charlie9578/wind-turbine-kml/blob/master/test.dae'\n",
    "model.altitudemode = 'clampToGround'\n",
    "model.location.latitude = 52\n",
    "model.location.longitude = 0\n",
    "model.scale.x = 1000\n",
    "model.scale.y = 1000\n",
    "model.scale.z = 1000\n",
    "kml.save(\"botanicalgarden4.kml\")"
   ]
  },
  {
   "cell_type": "code",
   "execution_count": null,
   "metadata": {
    "colab": {},
    "colab_type": "code",
    "id": "WlI1JtbGkk-I"
   },
   "outputs": [],
   "source": []
  }
 ],
 "metadata": {
  "colab": {
   "authorship_tag": "ABX9TyOBtL29kKpqX+zv9gaTQItc",
   "include_colab_link": true,
   "name": "windTurbineModelKML.ipynb",
   "provenance": []
  },
  "kernelspec": {
   "display_name": "Python 3 (ipykernel)",
   "language": "python",
   "name": "python3"
  },
  "language_info": {
   "codemirror_mode": {
    "name": "ipython",
    "version": 3
   },
   "file_extension": ".py",
   "mimetype": "text/x-python",
   "name": "python",
   "nbconvert_exporter": "python",
   "pygments_lexer": "ipython3",
   "version": "3.8.18"
  }
 },
 "nbformat": 4,
 "nbformat_minor": 1
}
